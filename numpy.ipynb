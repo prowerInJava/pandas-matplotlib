{
 "cells": [
  {
   "cell_type": "code",
   "execution_count": 1,
   "metadata": {},
   "outputs": [
    {
     "data": {
      "text/plain": [
       "numpy.ndarray"
      ]
     },
     "execution_count": 1,
     "metadata": {},
     "output_type": "execute_result"
    }
   ],
   "source": [
    "import numpy as np\n",
    "LIST = [1,2,3,4,7]\n",
    "arr = np.array([1,2,3,4,7])\n",
    "type (arr)"
   ]
  },
  {
   "cell_type": "markdown",
   "metadata": {},
   "source": [
    "# 认识numpy"
   ]
  },
  {
   "cell_type": "code",
   "execution_count": 2,
   "metadata": {},
   "outputs": [
    {
     "name": "stdout",
     "output_type": "stream",
     "text": [
      "1\n"
     ]
    }
   ],
   "source": [
    "print (LIST[0])"
   ]
  },
  {
   "cell_type": "code",
   "execution_count": 3,
   "metadata": {
    "scrolled": false
   },
   "outputs": [
    {
     "name": "stdout",
     "output_type": "stream",
     "text": [
      "2\n"
     ]
    }
   ],
   "source": [
    "print(arr[1])"
   ]
  },
  {
   "cell_type": "code",
   "execution_count": 4,
   "metadata": {},
   "outputs": [
    {
     "data": {
      "text/plain": [
       "array([3, 4, 7])"
      ]
     },
     "execution_count": 4,
     "metadata": {},
     "output_type": "execute_result"
    }
   ],
   "source": [
    "arr[2:]"
   ]
  },
  {
   "cell_type": "code",
   "execution_count": 5,
   "metadata": {},
   "outputs": [
    {
     "name": "stdout",
     "output_type": "stream",
     "text": [
      "[3 4 7]\n",
      "[3, 4, 'string']\n"
     ]
    }
   ],
   "source": [
    "print (arr[2:])\n",
    "\n",
    "LIST[-1] = 'string'\n",
    "\n",
    "print(LIST[2:])"
   ]
  },
  {
   "cell_type": "code",
   "execution_count": 6,
   "metadata": {},
   "outputs": [],
   "source": [
    "#arr[-1]='string'#报错：一旦numpy的数组创建完成，dtype就是固定的，不可以改变"
   ]
  },
  {
   "cell_type": "code",
   "execution_count": 7,
   "metadata": {},
   "outputs": [
    {
     "data": {
      "text/plain": [
       "dtype('int32')"
      ]
     },
     "execution_count": 7,
     "metadata": {},
     "output_type": "execute_result"
    }
   ],
   "source": [
    "arr.dtype #输出arr矩阵的dtype"
   ]
  },
  {
   "cell_type": "code",
   "execution_count": 8,
   "metadata": {},
   "outputs": [],
   "source": [
    "arr[-1] = 14.23 #整数类型的数组中添加一个浮点类型数"
   ]
  },
  {
   "cell_type": "code",
   "execution_count": 9,
   "metadata": {},
   "outputs": [
    {
     "data": {
      "text/plain": [
       "array([ 1,  2,  3,  4, 14])"
      ]
     },
     "execution_count": 9,
     "metadata": {},
     "output_type": "execute_result"
    }
   ],
   "source": [
    "arr#自动将浮点类型转为整数类型"
   ]
  },
  {
   "cell_type": "markdown",
   "metadata": {},
   "source": [
    "# 数组的创建"
   ]
  },
  {
   "cell_type": "code",
   "execution_count": 10,
   "metadata": {},
   "outputs": [
    {
     "data": {
      "text/plain": [
       "array([ 0.,  0.,  0.,  0.,  0.])"
      ]
     },
     "execution_count": 10,
     "metadata": {},
     "output_type": "execute_result"
    }
   ],
   "source": [
    "np.zeros(5,dtype = float)#创建一个浮点类型的值为0，长度为5的数组"
   ]
  },
  {
   "cell_type": "code",
   "execution_count": 11,
   "metadata": {},
   "outputs": [
    {
     "data": {
      "text/plain": [
       "array([0, 0, 0])"
      ]
     },
     "execution_count": 11,
     "metadata": {},
     "output_type": "execute_result"
    }
   ],
   "source": [
    "np.zeros(3,dtype=int)"
   ]
  },
  {
   "cell_type": "code",
   "execution_count": 12,
   "metadata": {},
   "outputs": [
    {
     "data": {
      "text/plain": [
       "array([ 1.,  1.,  1.,  1.,  1.])"
      ]
     },
     "execution_count": 12,
     "metadata": {},
     "output_type": "execute_result"
    }
   ],
   "source": [
    "np.ones(5,dtype =float)#创建一个浮点类型的值为1，长度为5的数组"
   ]
  },
  {
   "cell_type": "code",
   "execution_count": 13,
   "metadata": {},
   "outputs": [
    {
     "data": {
      "text/plain": [
       "array([ 1.,  1.,  1.,  1.,  1.])"
      ]
     },
     "execution_count": 13,
     "metadata": {},
     "output_type": "execute_result"
    }
   ],
   "source": [
    "np.ones(5)"
   ]
  },
  {
   "cell_type": "code",
   "execution_count": 14,
   "metadata": {},
   "outputs": [],
   "source": [
    "a = np.empty(4)#定义一个长度为4的空数组"
   ]
  },
  {
   "cell_type": "code",
   "execution_count": 15,
   "metadata": {},
   "outputs": [
    {
     "data": {
      "text/plain": [
       "array([ 5.5,  5.5,  5.5,  5.5])"
      ]
     },
     "execution_count": 15,
     "metadata": {},
     "output_type": "execute_result"
    }
   ],
   "source": [
    "a.fill(5.5)#将空数组用5.5填充\n",
    "a"
   ]
  },
  {
   "cell_type": "code",
   "execution_count": 16,
   "metadata": {
    "scrolled": true
   },
   "outputs": [
    {
     "data": {
      "text/plain": [
       "array([ 0.83536852, -0.84927739, -2.56783843, -0.77170303,  1.55795624])"
      ]
     },
     "execution_count": 16,
     "metadata": {},
     "output_type": "execute_result"
    }
   ],
   "source": [
    "np.random.randn(5)#用np.random创建一个长度为5的随机数组,例如生成一个服从标准正态分布的（均值为0，方差为1）的5个随机样本数组"
   ]
  },
  {
   "cell_type": "code",
   "execution_count": 17,
   "metadata": {},
   "outputs": [
    {
     "name": "stdout",
     "output_type": "stream",
     "text": [
      "[[1 2]\n",
      " [3 4]]\n"
     ]
    }
   ],
   "source": [
    "LIST2 = [[1,2],[3,4]] \n",
    "arr2 = np.array( [[1,2],[3,4]])#多维数组\n",
    "print(arr2)"
   ]
  },
  {
   "cell_type": "markdown",
   "metadata": {},
   "source": [
    "numpy创建多维数组对象，ndarray是一种快速并且节省空间的多维数组，它可以提供数组化的算术运算和高级的广播功能。通过使用标准的数学函数，并不需要编写循环，便可以对整个数组的数据进行快速运算。除此之外ndarray还具备线性代数，随机数生成，和傅里叶变换的能力"
   ]
  },
  {
   "cell_type": "code",
   "execution_count": 18,
   "metadata": {},
   "outputs": [
    {
     "name": "stdout",
     "output_type": "stream",
     "text": [
      "2\n",
      "2\n"
     ]
    }
   ],
   "source": [
    "print(LIST2[0][1])\n",
    "print(arr2[0,1]) #返回第一行第二列的数值"
   ]
  },
  {
   "cell_type": "code",
   "execution_count": 19,
   "metadata": {},
   "outputs": [
    {
     "data": {
      "text/plain": [
       "array([[ 0.,  0.,  0.],\n",
       "       [ 0.,  0.,  0.]])"
      ]
     },
     "execution_count": 19,
     "metadata": {},
     "output_type": "execute_result"
    }
   ],
   "source": [
    "np.zeros((2,3))#定义一个2行3列的0数组"
   ]
  },
  {
   "cell_type": "code",
   "execution_count": 20,
   "metadata": {},
   "outputs": [
    {
     "data": {
      "text/plain": [
       "array([[ 13.63537572,  10.57113151,  14.37479229,   6.46644604],\n",
       "       [  9.39902717,   8.49258547,  12.66839946,   6.95190764]])"
      ]
     },
     "execution_count": 20,
     "metadata": {},
     "output_type": "execute_result"
    }
   ],
   "source": [
    "np.random.normal(10,3,(2,4))#返回2行4列的array，且均值为10，标准差为3的正态分布的随机数"
   ]
  },
  {
   "cell_type": "code",
   "execution_count": 21,
   "metadata": {},
   "outputs": [],
   "source": [
    "arr1 = np.arange(8)"
   ]
  },
  {
   "cell_type": "code",
   "execution_count": 22,
   "metadata": {},
   "outputs": [],
   "source": [
    "arr2 = np.arange(8).reshape(2,4)"
   ]
  },
  {
   "cell_type": "code",
   "execution_count": 23,
   "metadata": {},
   "outputs": [
    {
     "name": "stdout",
     "output_type": "stream",
     "text": [
      "[0 1 2 3 4 5 6 7]\n"
     ]
    }
   ],
   "source": [
    "print(arr1)"
   ]
  },
  {
   "cell_type": "code",
   "execution_count": 24,
   "metadata": {},
   "outputs": [
    {
     "name": "stdout",
     "output_type": "stream",
     "text": [
      "[[0 1 2 3]\n",
      " [4 5 6 7]]\n"
     ]
    }
   ],
   "source": [
    "print(arr2)"
   ]
  },
  {
   "cell_type": "code",
   "execution_count": 25,
   "metadata": {},
   "outputs": [
    {
     "name": "stdout",
     "output_type": "stream",
     "text": [
      "[1000    1    2    3    4    5    6    7]\n",
      "[[1000    1    2    3]\n",
      " [   4    5    6    7]]\n"
     ]
    }
   ],
   "source": [
    "arr1 = np.arange(8)\n",
    "arr2 = arr1.reshape(2,4)#数组的元素总数不变，数组的形状可以随时改变\n",
    "arr1[0] = 1000\n",
    "print(arr1)\n",
    "print(arr2)"
   ]
  },
  {
   "cell_type": "code",
   "execution_count": 26,
   "metadata": {},
   "outputs": [
    {
     "name": "stdout",
     "output_type": "stream",
     "text": [
      "[1000    1    2    3    4    5    6    7]\n",
      "[1 1 2 3 4 5 6 7]\n",
      "[[1 1 2 3]\n",
      " [4 5 6 7]]\n"
     ]
    }
   ],
   "source": [
    "arr3 = arr1.copy()\n",
    "arr1[0]= 1\n",
    "print(arr3)\n",
    "print(arr1)\n",
    "print(arr2)#引用类型，指向的是同一个内存地址，所以arr1改变后，arr3 和 arr2 也会一起改变。"
   ]
  },
  {
   "cell_type": "code",
   "execution_count": 27,
   "metadata": {},
   "outputs": [
    {
     "name": "stdout",
     "output_type": "stream",
     "text": [
      "[6]\n",
      "[2 6]\n",
      "[6 7]\n"
     ]
    }
   ],
   "source": [
    "print(arr2[1,2:3])\n",
    "print(arr2[:,2])\n",
    "print(arr2[1][2:4]) #返回第二行的第2，3列[2，4)"
   ]
  },
  {
   "cell_type": "markdown",
   "metadata": {},
   "source": [
    "多维数组的属性"
   ]
  },
  {
   "cell_type": "code",
   "execution_count": 28,
   "metadata": {},
   "outputs": [
    {
     "name": "stdout",
     "output_type": "stream",
     "text": [
      "Data type: int32\n",
      "Total number of elements: 8\n",
      "Number of dimensions: 2\n",
      "Shape (dimensionality): (2, 4)\n",
      "Memory used (in bytes) 32\n",
      "Minimum and maximum: 1 7\n",
      "Sum and product of all elements: 29 5040\n",
      "Mean and standard deviation: 3.625 2.11763429326\n",
      "The sum of elements along the rows is: [ 7 22]\n",
      "The sum of elements along the columns is: [ 5  6  8 10]\n"
     ]
    }
   ],
   "source": [
    "arr = arr2\n",
    "print('Data type:',arr.dtype)\n",
    "print('Total number of elements:',arr.size)\n",
    "print(\"Number of dimensions:\",arr.ndim)\n",
    "print(\"Shape (dimensionality):\",arr.shape)\n",
    "print(\"Memory used (in bytes)\",arr.nbytes)\n",
    "print(\"Minimum and maximum:\",arr.min(),arr.max())\n",
    "print(\"Sum and product of all elements:\",arr.sum(),arr.prod())\n",
    "print(\"Mean and standard deviation:\",arr.mean(),arr.std())\n",
    "print(\"The sum of elements along the rows is:\",arr.sum(axis = 1))#计算每一行的sum\n",
    "print(\"The sum of elements along the columns is:\",arr.sum(axis = 0))#计算每一列的sum"
   ]
  },
  {
   "cell_type": "code",
   "execution_count": 29,
   "metadata": {},
   "outputs": [
    {
     "name": "stdout",
     "output_type": "stream",
     "text": [
      "Array \n",
      " [[1 1 2 3]\n",
      " [4 5 6 7]]\n",
      "Transpose \n",
      " [[1 4]\n",
      " [1 5]\n",
      " [2 6]\n",
      " [3 7]]\n"
     ]
    }
   ],
   "source": [
    "print(\"Array \\n\",arr)\n",
    "print(\"Transpose \\n\",arr.T)#输出转置矩阵"
   ]
  },
  {
   "cell_type": "markdown",
   "metadata": {},
   "source": [
    "# 数组的运算"
   ]
  },
  {
   "cell_type": "markdown",
   "metadata": {},
   "source": [
    "Numpy专为科学计算而生，数组支持所有的常规运算，Numpy库中包含完整的基本科学函数，这些函数在数组的运算上也发挥了很大的作用，一般来说，数组的所有操作都是以元素对应的方式实现的，即同时应用于数组的所有元素，且一一对应。\n",
    "Numpy提供的完整的数学函数，并且可以在整个数组上运行，其中包括对数、指数、三角函数和双曲三角函数等"
   ]
  },
  {
   "cell_type": "code",
   "execution_count": 30,
   "metadata": {},
   "outputs": [],
   "source": [
    "x = np.linspace(0,2*np.pi,20)\n",
    "y = np.sin(x) #在0，2pi之间的正弦函数上取20个点"
   ]
  },
  {
   "cell_type": "code",
   "execution_count": 31,
   "metadata": {},
   "outputs": [
    {
     "name": "stdout",
     "output_type": "stream",
     "text": [
      "[  0.00000000e+00   3.24699469e-01   6.14212713e-01   8.37166478e-01\n",
      "   9.69400266e-01   9.96584493e-01   9.15773327e-01   7.35723911e-01\n",
      "   4.75947393e-01   1.64594590e-01  -1.64594590e-01  -4.75947393e-01\n",
      "  -7.35723911e-01  -9.15773327e-01  -9.96584493e-01  -9.69400266e-01\n",
      "  -8.37166478e-01  -6.14212713e-01  -3.24699469e-01  -2.44929360e-16]\n"
     ]
    }
   ],
   "source": [
    "print(y)"
   ]
  },
  {
   "cell_type": "code",
   "execution_count": null,
   "metadata": {},
   "outputs": [],
   "source": []
  }
 ],
 "metadata": {
  "kernelspec": {
   "display_name": "Python 3",
   "language": "python",
   "name": "python3"
  },
  "language_info": {
   "codemirror_mode": {
    "name": "ipython",
    "version": 3
   },
   "file_extension": ".py",
   "mimetype": "text/x-python",
   "name": "python",
   "nbconvert_exporter": "python",
   "pygments_lexer": "ipython3",
   "version": "3.6.3"
  }
 },
 "nbformat": 4,
 "nbformat_minor": 2
}
